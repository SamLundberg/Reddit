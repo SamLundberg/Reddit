{
 "cells": [
  {
   "cell_type": "markdown",
   "metadata": {
    "focus": false,
    "id": "04563b69-f7b6-466f-9d65-fc62c9ddee6a"
   },
   "source": [
    "# Predicting Subreddits"
   ]
  },
  {
   "cell_type": "markdown",
   "metadata": {},
   "source": [
    "## Executive Summary\n"
   ]
  },
  {
   "cell_type": "markdown",
   "metadata": {},
   "source": [
    "### Reditt is a popular internet site that allows users to post and comment on just about anything you can think of.  From animals to home repairs to social/political issues, there is a subreddit for you to express your views, pass some time, or learn something new.  The challenge to use Reditt, is that there is so much information sometimes, how can you keep up on what is important to you, outside of reading each and every new post.  If you are a business, can you use popular topics to help direct your marketing or product development, through what users ares saying on Reddit?\n",
    "\n",
    "### Finding a Reddit thread and than trying to dissect what is actually useful information, vs. useless jibberish, can be overwhelming.  But if one were able to predict if a post is worth the time to look at, or if there are certain key words to search for, this could become an incredibly useful tool! What happens if you look at two subreddits that could be related, but are quite different? Is there a correlation there that can be made to further strengthen a prediction of using a title of a post to know which subreddit it came from without actually looking at the post? I believe the answer is yes!\n",
    "\n",
    "### Through some processing and cleanup of words for hundreds of posts, some models have been developed to show just how much success and accuracy can be had simply by observing key words and phrases.  This will save you time to know what kind of posts to further look into and see if they add value to your needs.  What would have taken hours before, to manually click and read on each post, can be done in seconds through automation and modeling of the data pulled directly from Reddit's threads.\n",
    "\n",
    "### I found that just by looking at the title of a post, I can tell if it belongs to one of two (or more with more time and massaging of the data), at a rate of 85% accuracy.  Examining certain words to associate those with a title in the subreddit, came in at 97%.  Looking at the number of comments a post has to see its relationship to the average number of posts of the whole subreddit, came in at 77%.\n",
    "\n",
    "### If you are excited to use this information to make better decisions, to parse through Reddit threads and posts quicker, to more effectively use in your business, I would love to use our findings and models to help you process all that information in a more effective way! The attached results and modeling details will outline the steps used to backup our findings.  I am anxious to get started working with you on this project!"
   ]
  },
  {
   "cell_type": "code",
   "execution_count": null,
   "metadata": {},
   "outputs": [],
   "source": []
  }
 ],
 "metadata": {
  "anaconda-cloud": {},
  "kernelspec": {
   "display_name": "Python [default]",
   "language": "python",
   "name": "python3"
  },
  "language_info": {
   "codemirror_mode": {
    "name": "ipython",
    "version": 3
   },
   "file_extension": ".py",
   "mimetype": "text/x-python",
   "name": "python",
   "nbconvert_exporter": "python",
   "pygments_lexer": "ipython3",
   "version": "3.6.5"
  },
  "varInspector": {
   "cols": {
    "lenName": 16,
    "lenType": 16,
    "lenVar": 40
   },
   "kernels_config": {
    "python": {
     "delete_cmd_postfix": "",
     "delete_cmd_prefix": "del ",
     "library": "var_list.py",
     "varRefreshCmd": "print(var_dic_list())"
    },
    "r": {
     "delete_cmd_postfix": ") ",
     "delete_cmd_prefix": "rm(",
     "library": "var_list.r",
     "varRefreshCmd": "cat(var_dic_list()) "
    }
   },
   "types_to_exclude": [
    "module",
    "function",
    "builtin_function_or_method",
    "instance",
    "_Feature"
   ],
   "window_display": false
  }
 },
 "nbformat": 4,
 "nbformat_minor": 1
}
